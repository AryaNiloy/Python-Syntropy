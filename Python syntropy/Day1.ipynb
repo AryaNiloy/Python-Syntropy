{
 "cells": [
  {
   "cell_type": "code",
   "execution_count": 1,
   "metadata": {},
   "outputs": [
    {
     "name": "stdout",
     "output_type": "stream",
     "text": [
      "Hello Python\n"
     ]
    },
    {
     "ename": "ValueError",
     "evalue": "invalid literal for int() with base 10: ''",
     "output_type": "error",
     "traceback": [
      "\u001b[1;31m---------------------------------------------------------------------------\u001b[0m",
      "\u001b[1;31mValueError\u001b[0m                                Traceback (most recent call last)",
      "Cell \u001b[1;32mIn[1], line 6\u001b[0m\n\u001b[0;32m      3\u001b[0m \u001b[39m#Task 2\u001b[39;00m\n\u001b[0;32m      4\u001b[0m \u001b[39m#1\u001b[39;00m\n\u001b[0;32m      5\u001b[0m x\u001b[39m=\u001b[39m\u001b[39minput\u001b[39m(\u001b[39m\"\u001b[39m\u001b[39mEnter a number:\u001b[39m\u001b[39m\"\u001b[39m)\n\u001b[1;32m----> 6\u001b[0m \u001b[39mif\u001b[39;00m(\u001b[39mint\u001b[39;49m(x)\u001b[39m>\u001b[39m\u001b[39m=\u001b[39m\u001b[39m0\u001b[39m):\n\u001b[0;32m      7\u001b[0m        \u001b[39mprint\u001b[39m(\u001b[39m\"\u001b[39m\u001b[39mPositive\u001b[39m\u001b[39m\"\u001b[39m)\n\u001b[0;32m      8\u001b[0m \u001b[39melif\u001b[39;00m (\u001b[39mint\u001b[39m(x)\u001b[39m<\u001b[39m\u001b[39m0\u001b[39m):\n",
      "\u001b[1;31mValueError\u001b[0m: invalid literal for int() with base 10: ''"
     ]
    }
   ],
   "source": [
    "#Task 1\n",
    "print(\"Hello Python\")\n",
    "#Task 2\n",
    "#1\n",
    "x=input(\"Enter a number:\")\n",
    "if(int(x)>=0):\n",
    "       print(\"Positive\")\n",
    "elif (int(x)<0):\n",
    "    print(\"Negative\")\n",
    "#Task 3\n",
    "#a\n",
    "y = \"Niloy\"\n",
    "x = input(\"Input name \")\n",
    "if (x == y):\n",
    "    print(\"Name matched\")\n",
    "else:\n",
    "    print(\"Name didnt match\")\n",
    "#b\n",
    "x = 5\n",
    "while x > 0:\n",
    "    print(x)\n",
    "    x -= 1\n",
    "for x in range(1, 6):\n",
    "    print(x)\n"
   ]
  }
 ],
 "metadata": {
  "kernelspec": {
   "display_name": "Python 3",
   "language": "python",
   "name": "python3"
  },
  "language_info": {
   "codemirror_mode": {
    "name": "ipython",
    "version": 3
   },
   "file_extension": ".py",
   "mimetype": "text/x-python",
   "name": "python",
   "nbconvert_exporter": "python",
   "pygments_lexer": "ipython3",
   "version": "3.12.1"
  },
  "orig_nbformat": 4
 },
 "nbformat": 4,
 "nbformat_minor": 2
}
