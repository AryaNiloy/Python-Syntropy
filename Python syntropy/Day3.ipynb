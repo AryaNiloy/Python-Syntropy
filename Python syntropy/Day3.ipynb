{
 "cells": [
  {
   "cell_type": "code",
   "execution_count": 1,
   "metadata": {},
   "outputs": [],
   "source": [
    "\n",
    "#Task 11\n",
    "x = input(\"Enter a string  \")\n",
    "rev = ' '\n",
    "for c in x:\n",
    "    rev= c + rev\n",
    "print(\"Reversed string \", rev)\n",
    "#Task 12\n",
    "x = int(input(\"Enter a number \"))\n",
    "y = 1\n",
    "for i in range(1, x + 1):\n",
    "    y =y*i\n",
    "print(\"Factorial \", y)\n",
    "#Task 13\n",
    "start_range = int(input(\"Enter start of range \"))\n",
    "end_range = int(input(\"Enter end of range \"))\n",
    "if start_range < 2:\n",
    "    start_range = 2\n",
    "for num in range(start_range, end_range + 1):\n",
    "    is_prime = True\n",
    "    for i in range(2, num):\n",
    "        if num % i == 0:\n",
    "            is_prime = False\n",
    "            break\n",
    "    if is_prime:\n",
    "        print(num)\n",
    "#Task 14\n",
    "x = input(\"Enter a string: \")\n",
    "rev = ''\n",
    "for c in x:\n",
    "    rev = c + rev\n",
    "if rev == x:\n",
    "    print(\"Palindrome\")\n",
    "else: \n",
    "    print(\"Not palindrome\")"
   ]
  }
 ],
 "metadata": {
  "kernelspec": {
   "display_name": "Python 3",
   "language": "python",
   "name": "python3"
  },
  "language_info": {
   "codemirror_mode": {
    "name": "ipython",
    "version": 3
   },
   "file_extension": ".py",
   "mimetype": "text/x-python",
   "name": "python",
   "nbconvert_exporter": "python",
   "pygments_lexer": "ipython3",
   "version": "3.12.1"
  },
  "orig_nbformat": 4
 },
 "nbformat": 4,
 "nbformat_minor": 2
}
